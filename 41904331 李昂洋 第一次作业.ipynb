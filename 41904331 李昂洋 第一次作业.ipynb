{
 "cells": [
  {
   "cell_type": "markdown",
   "metadata": {},
   "source": [
    "# fundamental of IT\n",
    "## basic structure:\n",
    "##### 1.an intoduction to IT \n",
    "##### 2.hardware\n",
    "##### 3.operating system\n",
    "##### 4.installing\n",
    "##### 5.networking\n",
    "##### 6.software\n",
    "##### 7.troubleshooting\n",
    "## hardware:\n",
    "### the modern computer:\n",
    "> *modern computers are everywhere*\n",
    "\n"
   ]
  },
  {
   "cell_type": "markdown",
   "metadata": {},
   "source": [
    "#### the hardware of a modern computer includes:\n",
    "##### 1.ports\n",
    "##### 2.CPU(central processing unit)\n",
    "##### 3.RAM(random access memory)\n",
    "##### 4.hard drive\n",
    "##### 5.motherboard\n",
    "#### programs and hardware:\n",
    "##### 1.cooking recipes\n",
    "##### 2.programs:copies into RAM for the CPU\n",
    "##### 3.external date bus\n",
    "###### 4.memory controller chip(MCC)\n",
    "##### 5.address bus\n",
    "##### 6.cache\n",
    "##### 7.clock wire"
   ]
  },
  {
   "cell_type": "markdown",
   "metadata": {},
   "source": [
    "### computer components:\n",
    "##### 1.CPU\n",
    "##### 2.RAM\n",
    "##### 3.motherborads\n",
    "##### 4.storage\n",
    "##### 5.power supplies\n",
    "##### 6.peripherals\n",
    "\n"
   ]
  },
  {
   "cell_type": "markdown",
   "metadata": {},
   "source": [
    "### starting it up:\n",
    "#### bios:\n",
    "##### services of drivers\n",
    "##### bios(basic input&output services)\n",
    "##### unified extensible firmware interface\n",
    "##### power-on self text\n",
    "##### COMS chip\n",
    "#### putting all the components together"
   ]
  },
  {
   "cell_type": "markdown",
   "metadata": {},
   "source": [
    "![](./Screenshot_20200924_165816_tv.danmaku.bili.jpg)\n",
    "![](./Screenshot_20200924_165719_tv.danmaku.bili.jpg)"
   ]
  },
  {
   "cell_type": "markdown",
   "metadata": {},
   "source": [
    ">*these two pictures shows what the host of a computer looks like.\n",
    "we can also see the main components from these two pictures.*"
   ]
  }
 ],
 "metadata": {
  "kernelspec": {
   "display_name": "Python 3",
   "language": "python",
   "name": "python3"
  },
  "language_info": {
   "codemirror_mode": {
    "name": "ipython",
    "version": 3
   },
   "file_extension": ".py",
   "mimetype": "text/x-python",
   "name": "python",
   "nbconvert_exporter": "python",
   "pygments_lexer": "ipython3",
   "version": "3.6.7"
  }
 },
 "nbformat": 4,
 "nbformat_minor": 2
}
